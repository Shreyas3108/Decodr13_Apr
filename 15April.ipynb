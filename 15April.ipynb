{
  "nbformat": 4,
  "nbformat_minor": 0,
  "metadata": {
    "colab": {
      "name": "15April.ipynb",
      "provenance": [],
      "authorship_tag": "ABX9TyO8cSp/04lOT3EFqleVpYLi",
      "include_colab_link": true
    },
    "kernelspec": {
      "name": "python3",
      "display_name": "Python 3"
    }
  },
  "cells": [
    {
      "cell_type": "markdown",
      "metadata": {
        "id": "view-in-github",
        "colab_type": "text"
      },
      "source": [
        "<a href=\"https://colab.research.google.com/github/Shreyas3108/Decodr13_Apr/blob/master/15April.ipynb\" target=\"_parent\"><img src=\"https://colab.research.google.com/assets/colab-badge.svg\" alt=\"Open In Colab\"/></a>"
      ]
    },
    {
      "cell_type": "markdown",
      "metadata": {
        "id": "OQy8USnWvqse",
        "colab_type": "text"
      },
      "source": [
        "# Decodr \n",
        "**IDE Demo**"
      ]
    },
    {
      "cell_type": "code",
      "metadata": {
        "id": "mPgF8r1VuDNM",
        "colab_type": "code",
        "colab": {
          "base_uri": "https://localhost:8080/",
          "height": 34
        },
        "outputId": "2cbca7df-0335-40f6-bac1-a55d5e832035"
      },
      "source": [
        "1+1 "
      ],
      "execution_count": 1,
      "outputs": [
        {
          "output_type": "execute_result",
          "data": {
            "text/plain": [
              "2"
            ]
          },
          "metadata": {
            "tags": []
          },
          "execution_count": 1
        }
      ]
    },
    {
      "cell_type": "markdown",
      "metadata": {
        "id": "ogLHJkw2wGpQ",
        "colab_type": "text"
      },
      "source": [
        "## Doing a Sum"
      ]
    },
    {
      "cell_type": "code",
      "metadata": {
        "id": "o-UM8iw1vvuu",
        "colab_type": "code",
        "colab": {
          "base_uri": "https://localhost:8080/",
          "height": 34
        },
        "outputId": "3adb5a19-3e3b-4572-afea-ad6093d98c5a"
      },
      "source": [
        "2+2"
      ],
      "execution_count": 2,
      "outputs": [
        {
          "output_type": "execute_result",
          "data": {
            "text/plain": [
              "4"
            ]
          },
          "metadata": {
            "tags": []
          },
          "execution_count": 2
        }
      ]
    },
    {
      "cell_type": "markdown",
      "metadata": {
        "id": "cGjx-Il2xIhs",
        "colab_type": "text"
      },
      "source": [
        "### Decodr Class Demo : Commit3 "
      ]
    },
    {
      "cell_type": "code",
      "metadata": {
        "id": "J4M9C4QtwJym",
        "colab_type": "code",
        "colab": {}
      },
      "source": [
        ""
      ],
      "execution_count": 0,
      "outputs": []
    }
  ]
}