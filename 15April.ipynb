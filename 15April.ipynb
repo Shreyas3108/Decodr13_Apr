{
  "nbformat": 4,
  "nbformat_minor": 0,
  "metadata": {
    "colab": {
      "name": "15April.ipynb",
      "provenance": [],
      "authorship_tag": "ABX9TyM5jlf1DlJFxsbmOyAUT0Zy"
    },
    "kernelspec": {
      "name": "python3",
      "display_name": "Python 3"
    }
  },
  "cells": [
    {
      "cell_type": "markdown",
      "metadata": {
        "id": "OQy8USnWvqse",
        "colab_type": "text"
      },
      "source": [
        "# Decodr \n",
        "**IDE Demo**"
      ]
    },
    {
      "cell_type": "code",
      "metadata": {
        "id": "mPgF8r1VuDNM",
        "colab_type": "code",
        "colab": {
          "base_uri": "https://localhost:8080/",
          "height": 34
        },
        "outputId": "2cbca7df-0335-40f6-bac1-a55d5e832035"
      },
      "source": [
        "1+1 "
      ],
      "execution_count": 1,
      "outputs": [
        {
          "output_type": "execute_result",
          "data": {
            "text/plain": [
              "2"
            ]
          },
          "metadata": {
            "tags": []
          },
          "execution_count": 1
        }
      ]
    },
    {
      "cell_type": "code",
      "metadata": {
        "id": "eKsY6dOJvlCy",
        "colab_type": "code",
        "colab": {}
      },
      "source": [
        ""
      ],
      "execution_count": 0,
      "outputs": []
    },
    {
      "cell_type": "code",
      "metadata": {
        "id": "o-UM8iw1vvuu",
        "colab_type": "code",
        "colab": {}
      },
      "source": [
        ""
      ],
      "execution_count": 0,
      "outputs": []
    }
  ]
}