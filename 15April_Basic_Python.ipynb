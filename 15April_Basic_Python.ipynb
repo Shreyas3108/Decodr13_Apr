{
  "nbformat": 4,
  "nbformat_minor": 0,
  "metadata": {
    "colab": {
      "name": "15April_Basic_Python.ipynb",
      "provenance": [],
      "collapsed_sections": [],
      "authorship_tag": "ABX9TyNKai1D8F1njoPvhkAsU3k+"
    },
    "kernelspec": {
      "name": "python3",
      "display_name": "Python 3"
    }
  },
  "cells": [
    {
      "cell_type": "markdown",
      "metadata": {
        "id": "OQy8USnWvqse",
        "colab_type": "text"
      },
      "source": [
        "# Decodr \n",
        "\n",
        "Datatypes demo"
      ]
    },
    {
      "cell_type": "code",
      "metadata": {
        "id": "mPgF8r1VuDNM",
        "colab_type": "code",
        "colab": {}
      },
      "source": [
        "a = 3.0\n",
        "b = 5"
      ],
      "execution_count": 0,
      "outputs": []
    },
    {
      "cell_type": "markdown",
      "metadata": {
        "id": "ogLHJkw2wGpQ",
        "colab_type": "text"
      },
      "source": [
        "### Doing basic arthematic "
      ]
    },
    {
      "cell_type": "code",
      "metadata": {
        "id": "o-UM8iw1vvuu",
        "colab_type": "code",
        "colab": {
          "base_uri": "https://localhost:8080/",
          "height": 35
        },
        "outputId": "df9af527-3192-4d1c-f1ed-1729338b5470"
      },
      "source": [
        "a + b "
      ],
      "execution_count": 11,
      "outputs": [
        {
          "output_type": "execute_result",
          "data": {
            "text/plain": [
              "8.0"
            ]
          },
          "metadata": {
            "tags": []
          },
          "execution_count": 11
        }
      ]
    },
    {
      "cell_type": "code",
      "metadata": {
        "id": "VoVT4AqL1DNY",
        "colab_type": "code",
        "colab": {
          "base_uri": "https://localhost:8080/",
          "height": 35
        },
        "outputId": "6d9e024d-7a46-4f06-86a0-8e94a324a832"
      },
      "source": [
        "a * b "
      ],
      "execution_count": 12,
      "outputs": [
        {
          "output_type": "execute_result",
          "data": {
            "text/plain": [
              "15.0"
            ]
          },
          "metadata": {
            "tags": []
          },
          "execution_count": 12
        }
      ]
    },
    {
      "cell_type": "code",
      "metadata": {
        "id": "KVWZuKCm1GZA",
        "colab_type": "code",
        "colab": {
          "base_uri": "https://localhost:8080/",
          "height": 35
        },
        "outputId": "cdd5625e-c6a3-4f32-ad3a-a9b686af137c"
      },
      "source": [
        "a -b "
      ],
      "execution_count": 13,
      "outputs": [
        {
          "output_type": "execute_result",
          "data": {
            "text/plain": [
              "-2.0"
            ]
          },
          "metadata": {
            "tags": []
          },
          "execution_count": 13
        }
      ]
    },
    {
      "cell_type": "code",
      "metadata": {
        "id": "SD7a0n0Y1PNS",
        "colab_type": "code",
        "colab": {
          "base_uri": "https://localhost:8080/",
          "height": 35
        },
        "outputId": "18a47797-7cb7-4e61-ba4e-5d26fb4f41f9"
      },
      "source": [
        "a ** 3"
      ],
      "execution_count": 14,
      "outputs": [
        {
          "output_type": "execute_result",
          "data": {
            "text/plain": [
              "27.0"
            ]
          },
          "metadata": {
            "tags": []
          },
          "execution_count": 14
        }
      ]
    },
    {
      "cell_type": "code",
      "metadata": {
        "id": "gEsjpsv51aep",
        "colab_type": "code",
        "colab": {
          "base_uri": "https://localhost:8080/",
          "height": 35
        },
        "outputId": "87ee8fd2-047f-41fa-a608-f6f30c82f268"
      },
      "source": [
        "a/b "
      ],
      "execution_count": 15,
      "outputs": [
        {
          "output_type": "execute_result",
          "data": {
            "text/plain": [
              "0.6"
            ]
          },
          "metadata": {
            "tags": []
          },
          "execution_count": 15
        }
      ]
    },
    {
      "cell_type": "code",
      "metadata": {
        "id": "EP9360u71gi4",
        "colab_type": "code",
        "colab": {}
      },
      "source": [
        "c = 'Prasanna'"
      ],
      "execution_count": 0,
      "outputs": []
    },
    {
      "cell_type": "code",
      "metadata": {
        "id": "-Kw2ov1F2Ilu",
        "colab_type": "code",
        "colab": {
          "base_uri": "https://localhost:8080/",
          "height": 35
        },
        "outputId": "196a3e9a-2d24-49e7-cb7a-af1150cca9a9"
      },
      "source": [
        "type(b)"
      ],
      "execution_count": 23,
      "outputs": [
        {
          "output_type": "execute_result",
          "data": {
            "text/plain": [
              "int"
            ]
          },
          "metadata": {
            "tags": []
          },
          "execution_count": 23
        }
      ]
    },
    {
      "cell_type": "code",
      "metadata": {
        "id": "J4M9C4QtwJym",
        "colab_type": "code",
        "colab": {}
      },
      "source": [
        "l1 = [1,2,3,4,5,6]\n",
        "      #0,1,2,3,4,5"
      ],
      "execution_count": 0,
      "outputs": []
    },
    {
      "cell_type": "code",
      "metadata": {
        "id": "duViYF4I3c20",
        "colab_type": "code",
        "colab": {}
      },
      "source": [
        "l2 = [1,'b','c',3.0]"
      ],
      "execution_count": 0,
      "outputs": []
    },
    {
      "cell_type": "code",
      "metadata": {
        "id": "pKq8dfjS3kpv",
        "colab_type": "code",
        "colab": {}
      },
      "source": [
        "l3= [[1,2,3],[3,4,5],[6,7,8]]"
      ],
      "execution_count": 0,
      "outputs": []
    },
    {
      "cell_type": "code",
      "metadata": {
        "id": "ODoLcwhG3rPn",
        "colab_type": "code",
        "colab": {
          "base_uri": "https://localhost:8080/",
          "height": 35
        },
        "outputId": "ab7e94da-add2-4e11-8a6c-3becc50829e0"
      },
      "source": [
        "len(l1)"
      ],
      "execution_count": 28,
      "outputs": [
        {
          "output_type": "execute_result",
          "data": {
            "text/plain": [
              "6"
            ]
          },
          "metadata": {
            "tags": []
          },
          "execution_count": 28
        }
      ]
    },
    {
      "cell_type": "code",
      "metadata": {
        "id": "1lRIj9Og4mJe",
        "colab_type": "code",
        "colab": {
          "base_uri": "https://localhost:8080/",
          "height": 35
        },
        "outputId": "d2399133-9ce0-4f2f-e70f-ac59c51dc4a0"
      },
      "source": [
        "len(c)"
      ],
      "execution_count": 29,
      "outputs": [
        {
          "output_type": "execute_result",
          "data": {
            "text/plain": [
              "8"
            ]
          },
          "metadata": {
            "tags": []
          },
          "execution_count": 29
        }
      ]
    },
    {
      "cell_type": "markdown",
      "metadata": {
        "id": "jnMCj3TJ512E",
        "colab_type": "text"
      },
      "source": [
        "**Check Last Element**"
      ]
    },
    {
      "cell_type": "code",
      "metadata": {
        "id": "AtLJA8NP4sJS",
        "colab_type": "code",
        "colab": {
          "base_uri": "https://localhost:8080/",
          "height": 35
        },
        "outputId": "154dd288-a83e-4c37-e6b5-68a59cb9a853"
      },
      "source": [
        "l1[-1]"
      ],
      "execution_count": 32,
      "outputs": [
        {
          "output_type": "execute_result",
          "data": {
            "text/plain": [
              "6"
            ]
          },
          "metadata": {
            "tags": []
          },
          "execution_count": 32
        }
      ]
    },
    {
      "cell_type": "code",
      "metadata": {
        "id": "hCdVphUW5i_x",
        "colab_type": "code",
        "colab": {
          "base_uri": "https://localhost:8080/",
          "height": 35
        },
        "outputId": "caef386b-8c5d-46a5-d048-7f9e4517478e"
      },
      "source": [
        "l1[5]"
      ],
      "execution_count": 33,
      "outputs": [
        {
          "output_type": "execute_result",
          "data": {
            "text/plain": [
              "6"
            ]
          },
          "metadata": {
            "tags": []
          },
          "execution_count": 33
        }
      ]
    },
    {
      "cell_type": "code",
      "metadata": {
        "id": "MduAIUTb5yMU",
        "colab_type": "code",
        "colab": {
          "base_uri": "https://localhost:8080/",
          "height": 35
        },
        "outputId": "5a4c4cb7-870f-4e99-e1cd-e81d52b34175"
      },
      "source": [
        "list[start : end(+1) : step]"
      ],
      "execution_count": 35,
      "outputs": [
        {
          "output_type": "execute_result",
          "data": {
            "text/plain": [
              "[1, 2]"
            ]
          },
          "metadata": {
            "tags": []
          },
          "execution_count": 35
        }
      ]
    },
    {
      "cell_type": "code",
      "metadata": {
        "id": "hAuB9T735-nM",
        "colab_type": "code",
        "colab": {
          "base_uri": "https://localhost:8080/",
          "height": 35
        },
        "outputId": "f0964fc6-8b91-4e35-8c97-f519b4b4fa40"
      },
      "source": [
        "l1[0:3]"
      ],
      "execution_count": 36,
      "outputs": [
        {
          "output_type": "execute_result",
          "data": {
            "text/plain": [
              "[1, 2, 3]"
            ]
          },
          "metadata": {
            "tags": []
          },
          "execution_count": 36
        }
      ]
    },
    {
      "cell_type": "code",
      "metadata": {
        "id": "nzdWXGHF6mVl",
        "colab_type": "code",
        "colab": {
          "base_uri": "https://localhost:8080/",
          "height": 35
        },
        "outputId": "88b6cb6b-43af-4c6c-f6c2-3c871915d2e4"
      },
      "source": [
        "l1[0:5:2]"
      ],
      "execution_count": 37,
      "outputs": [
        {
          "output_type": "execute_result",
          "data": {
            "text/plain": [
              "[1, 3, 5]"
            ]
          },
          "metadata": {
            "tags": []
          },
          "execution_count": 37
        }
      ]
    },
    {
      "cell_type": "code",
      "metadata": {
        "id": "OOJCWWLy6s8B",
        "colab_type": "code",
        "colab": {
          "base_uri": "https://localhost:8080/",
          "height": 35
        },
        "outputId": "c11d4517-ed3d-4067-b790-e72cb2063a38"
      },
      "source": [
        "l1[::2]"
      ],
      "execution_count": 38,
      "outputs": [
        {
          "output_type": "execute_result",
          "data": {
            "text/plain": [
              "[1, 3, 5]"
            ]
          },
          "metadata": {
            "tags": []
          },
          "execution_count": 38
        }
      ]
    },
    {
      "cell_type": "code",
      "metadata": {
        "id": "jDRf89yr6wo1",
        "colab_type": "code",
        "colab": {
          "base_uri": "https://localhost:8080/",
          "height": 35
        },
        "outputId": "972c6733-ced1-4fb9-ab13-e2404007adec"
      },
      "source": [
        "l1[::-2]"
      ],
      "execution_count": 40,
      "outputs": [
        {
          "output_type": "execute_result",
          "data": {
            "text/plain": [
              "[6, 4, 2]"
            ]
          },
          "metadata": {
            "tags": []
          },
          "execution_count": 40
        }
      ]
    },
    {
      "cell_type": "code",
      "metadata": {
        "id": "E7gTANPr8uNv",
        "colab_type": "code",
        "colab": {}
      },
      "source": [
        "l1 = [1,2,3,4,5,6]\n",
        "      #0,1,2,3,4,5\n",
        "\n",
        "0 -> 1\n",
        "0 + 2 = 2 -> 3  \n",
        "2 + 2 = 4 -> 5 \n",
        "4 + 2 = 6 \n",
        "\n",
        "\n",
        "0 - 1 = -1 \n",
        "-1 -1 = -2\n",
        "-2 -1 = -3 \n",
        "\n",
        "0 -2 = "
      ],
      "execution_count": 0,
      "outputs": []
    }
  ]
}